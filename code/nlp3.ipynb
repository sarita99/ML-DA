{
 "cells": [
  {
   "cell_type": "code",
   "execution_count": null,
   "id": "54132d78",
   "metadata": {},
   "outputs": [],
   "source": [
    "'''Question 3: Copy the data provided in the sample2.txt file into your Python environment and perform the following operations\n",
    "\n",
    "Find all dates and convert them to the DD-MM-YYYY format. \n",
    "\n",
    "Plot a distribution of the different values of year occurring in the text\n",
    "\n",
    "Determine whether the text contains any phone numbers in it. Ensure the phone numbers are valid if any. A valid phonenumber doesn't have all digits same. If an invalid phone number is found, remove it from the text.'''"
   ]
  },
  {
   "cell_type": "code",
   "execution_count": 1,
   "id": "a03d25cd",
   "metadata": {},
   "outputs": [
    {
     "name": "stdout",
     "output_type": "stream",
     "text": [
      "The Sansad Bhavan (Parliament House) is located in New Delhi. It was designed by Edwin Lutyens and Herbert Baker, who were responsible for planning and construction of New Delhi by British government. The construction of buildings took six years and the opening ceremony was performed on 18 January 1927 by the then Viceroy and Governor-General of India, Irwin. \n",
      "In November 2014, Zomato completed another round of funding of US$60 million at a post-money valuation of ~US$660 million. This round of funding was being led jointly by Info Edge India and Vy Capital, with participation from Sequoia Capital. To contact reach us at +61 450 266 295.\n",
      "Uber Technologies Inc. (doing business as Uber) is a peer-to-peer ridesharing, taxi cab, food delivery, bicycle-sharing, and transportation network company (TNC) headquartered in San Francisco, California, with operations in 785 metropolitan areas worldwide. Its platforms can be accessed via its websites and mobile apps. Uber has been prominent in the sharing economy, so much so that the changes in industries as a result of it have been referred to as Uberisation. \n",
      "Justdial is an Indian-based search services company founded by Venkatachalam Sthanu Subramani Mani. The company's headquarters is in Mumbai, Maharashtra, India. It has offices in Ahmedabad, Bangalore, Chandigarh, Chennai, Coimbatore, Delhi, Hyderabad, Jaipur, Kolkata and Pune.[8] Just Dial was in news on November 10, 2017 for expected acquisition by Google and based on this news the share prices at NSE rose about 20%. Customerservice number 88888 88888.\n",
      "An earthquake (also known as a quake, tremor or temblor) is the shaking of the surface of the Earth, resulting from the sudden release of energy in the Earth's lithosphere that creates seismic waves. Earthquakes can range in size from those that are so weak that they cannot be felt to those violent enough to toss people around and destroy whole cities. The seismicity, or seismic activity, of an area is the frequency, type and size of earthquakes experienced over a period of time. The word tremor is also used for non-earthquake seismic rumbling. Dates of the recent earthquakes that occured this year 7-Sep-18, 6-September-18, September 05,2018, 29-08-18, 25/Aug/18 and many more.\n"
     ]
    }
   ],
   "source": [
    "import nltk\n",
    "import string\n",
    "from nltk import word_tokenize\n",
    "from nltk import wordpunct_tokenize\n",
    "from nltk.corpus import stopwords\n",
    "from string import punctuation\n",
    "from nltk.stem.snowball import SnowballStemmer\n",
    "from nltk.stem.wordnet import WordNetLemmatizer\n",
    "from nltk import pos_tag\n",
    "#read the file \n",
    "#Note: use the correct path of the file depending on your environment\n",
    "file = open(\"data/sample2.txt\",'r') \n",
    "text = ''\n",
    "for i in file.readlines():\n",
    "    text+=i\n",
    "print(text)"
   ]
  },
  {
   "cell_type": "code",
   "execution_count": 2,
   "id": "a0657118",
   "metadata": {},
   "outputs": [
    {
     "name": "stdout",
     "output_type": "stream",
     "text": [
      "The Sansad Bhavan (Parliament House) is located in New Delhi. It was designed by Edwin Lutyens and Herbert Baker, who were responsible for planning and construction of New Delhi by British government. The construction of buildings took six years and the opening ceremony was performed on 18 January 1927 by the then Viceroy and Governor-General of India, Irwin. \n",
      "In November 2014, Zomato completed another round of funding of US$60 million at a post-money valuation of ~US$660 million. This round of funding was being led jointly by Info Edge India and Vy Capital, with participation from Sequoia Capital. To contact reach us at +61 450 266 295.\n",
      "Uber Technologies Inc. (doing business as Uber) is a peer-to-peer ridesharing, taxi cab, food delivery, bicycle-sharing, and transportation network company (TNC) headquartered in San Francisco, California, with operations in 785 metropolitan areas worldwide. Its platforms can be accessed via its websites and mobile apps. Uber has been prominent in the sharing economy, so much so that the changes in industries as a result of it have been referred to as Uberisation. \n",
      "Justdial is an Indian-based search services company founded by Venkatachalam Sthanu Subramani Mani. The company's headquarters is in Mumbai, Maharashtra, India. It has offices in Ahmedabad, Bangalore, Chandigarh, Chennai, Coimbatore, Delhi, Hyderabad, Jaipur, Kolkata and Pune.[8] Just Dial was in news on November 10, 2017 for expected acquisition by Google and based on this news the share prices at NSE rose about 20%. Customerservice number 88888 88888.\n",
      "An earthquake (also known as a quake, tremor or temblor) is the shaking of the surface of the Earth, resulting from the sudden release of energy in the Earth's lithosphere that creates seismic waves. Earthquakes can range in size from those that are so weak that they cannot be felt to those violent enough to toss people around and destroy whole cities. The seismicity, or seismic activity, of an area is the frequency, type and size of earthquakes experienced over a period of time. The word tremor is also used for non-earthquake seismic rumbling. Dates of the recent earthquakes that occured this year 7-Sep-18, 6-September-18, September 05,2018, 29-08-18, 25/Aug/18 and many more.\n"
     ]
    }
   ],
   "source": [
    "#remove trailing spaces\n",
    "trimmed_text = text.strip()\n",
    "print(trimmed_text)"
   ]
  },
  {
   "cell_type": "code",
   "execution_count": 3,
   "id": "2b06e8b4",
   "metadata": {},
   "outputs": [
    {
     "name": "stdout",
     "output_type": "stream",
     "text": [
      "the sansad bhavan (parliament house) is located in new delhi. it was designed by edwin lutyens and herbert baker, who were responsible for planning and construction of new delhi by british government. the construction of buildings took six years and the opening ceremony was performed on 18 january 1927 by the then viceroy and governor-general of india, irwin. \n",
      "in november 2014, zomato completed another round of funding of us$60 million at a post-money valuation of ~us$660 million. this round of funding was being led jointly by info edge india and vy capital, with participation from sequoia capital. to contact reach us at +61 450 266 295.\n",
      "uber technologies inc. (doing business as uber) is a peer-to-peer ridesharing, taxi cab, food delivery, bicycle-sharing, and transportation network company (tnc) headquartered in san francisco, california, with operations in 785 metropolitan areas worldwide. its platforms can be accessed via its websites and mobile apps. uber has been prominent in the sharing economy, so much so that the changes in industries as a result of it have been referred to as uberisation. \n",
      "justdial is an indian-based search services company founded by venkatachalam sthanu subramani mani. the company's headquarters is in mumbai, maharashtra, india. it has offices in ahmedabad, bangalore, chandigarh, chennai, coimbatore, delhi, hyderabad, jaipur, kolkata and pune.[8] just dial was in news on november 10, 2017 for expected acquisition by google and based on this news the share prices at nse rose about 20%. customerservice number 88888 88888.\n",
      "an earthquake (also known as a quake, tremor or temblor) is the shaking of the surface of the earth, resulting from the sudden release of energy in the earth's lithosphere that creates seismic waves. earthquakes can range in size from those that are so weak that they cannot be felt to those violent enough to toss people around and destroy whole cities. the seismicity, or seismic activity, of an area is the frequency, type and size of earthquakes experienced over a period of time. the word tremor is also used for non-earthquake seismic rumbling. dates of the recent earthquakes that occured this year 7-sep-18, 6-september-18, september 05,2018, 29-08-18, 25/aug/18 and many more.\n"
     ]
    }
   ],
   "source": [
    "converted_text = trimmed_text.lower()\n",
    "print(converted_text)"
   ]
  },
  {
   "cell_type": "code",
   "execution_count": 4,
   "id": "ccaf8ab2",
   "metadata": {},
   "outputs": [
    {
     "name": "stdout",
     "output_type": "stream",
     "text": [
      "['the', 'sansad', 'bhavan', '(', 'parliament', 'house', ')', 'is', 'located', 'in', 'new', 'delhi', '.', 'it', 'was', 'designed', 'by', 'edwin', 'lutyens', 'and', 'herbert', 'baker', ',', 'who', 'were', 'responsible', 'for', 'planning', 'and', 'construction', 'of', 'new', 'delhi', 'by', 'british', 'government', '.', 'the', 'construction', 'of', 'buildings', 'took', 'six', 'years', 'and', 'the', 'opening', 'ceremony', 'was', 'performed', 'on', '18', 'january', '1927', 'by', 'the', 'then', 'viceroy', 'and', 'governor-general', 'of', 'india', ',', 'irwin', '.', 'in', 'november', '2014', ',', 'zomato', 'completed', 'another', 'round', 'of', 'funding', 'of', 'us', '$', '60', 'million', 'at', 'a', 'post-money', 'valuation', 'of', '~us', '$', '660', 'million', '.', 'this', 'round', 'of', 'funding', 'was', 'being', 'led', 'jointly', 'by', 'info', 'edge', 'india', 'and', 'vy', 'capital', ',', 'with', 'participation', 'from', 'sequoia', 'capital', '.', 'to', 'contact', 'reach', 'us', 'at', '+61', '450', '266', '295.', 'uber', 'technologies', 'inc.', '(', 'doing', 'business', 'as', 'uber', ')', 'is', 'a', 'peer-to-peer', 'ridesharing', ',', 'taxi', 'cab', ',', 'food', 'delivery', ',', 'bicycle-sharing', ',', 'and', 'transportation', 'network', 'company', '(', 'tnc', ')', 'headquartered', 'in', 'san', 'francisco', ',', 'california', ',', 'with', 'operations', 'in', '785', 'metropolitan', 'areas', 'worldwide', '.', 'its', 'platforms', 'can', 'be', 'accessed', 'via', 'its', 'websites', 'and', 'mobile', 'apps', '.', 'uber', 'has', 'been', 'prominent', 'in', 'the', 'sharing', 'economy', ',', 'so', 'much', 'so', 'that', 'the', 'changes', 'in', 'industries', 'as', 'a', 'result', 'of', 'it', 'have', 'been', 'referred', 'to', 'as', 'uberisation', '.', 'justdial', 'is', 'an', 'indian-based', 'search', 'services', 'company', 'founded', 'by', 'venkatachalam', 'sthanu', 'subramani', 'mani', '.', 'the', 'company', \"'s\", 'headquarters', 'is', 'in', 'mumbai', ',', 'maharashtra', ',', 'india', '.', 'it', 'has', 'offices', 'in', 'ahmedabad', ',', 'bangalore', ',', 'chandigarh', ',', 'chennai', ',', 'coimbatore', ',', 'delhi', ',', 'hyderabad', ',', 'jaipur', ',', 'kolkata', 'and', 'pune', '.', '[', '8', ']', 'just', 'dial', 'was', 'in', 'news', 'on', 'november', '10', ',', '2017', 'for', 'expected', 'acquisition', 'by', 'google', 'and', 'based', 'on', 'this', 'news', 'the', 'share', 'prices', 'at', 'nse', 'rose', 'about', '20', '%', '.', 'customerservice', 'number', '88888', '88888.', 'an', 'earthquake', '(', 'also', 'known', 'as', 'a', 'quake', ',', 'tremor', 'or', 'temblor', ')', 'is', 'the', 'shaking', 'of', 'the', 'surface', 'of', 'the', 'earth', ',', 'resulting', 'from', 'the', 'sudden', 'release', 'of', 'energy', 'in', 'the', 'earth', \"'s\", 'lithosphere', 'that', 'creates', 'seismic', 'waves', '.', 'earthquakes', 'can', 'range', 'in', 'size', 'from', 'those', 'that', 'are', 'so', 'weak', 'that', 'they', 'can', 'not', 'be', 'felt', 'to', 'those', 'violent', 'enough', 'to', 'toss', 'people', 'around', 'and', 'destroy', 'whole', 'cities', '.', 'the', 'seismicity', ',', 'or', 'seismic', 'activity', ',', 'of', 'an', 'area', 'is', 'the', 'frequency', ',', 'type', 'and', 'size', 'of', 'earthquakes', 'experienced', 'over', 'a', 'period', 'of', 'time', '.', 'the', 'word', 'tremor', 'is', 'also', 'used', 'for', 'non-earthquake', 'seismic', 'rumbling', '.', 'dates', 'of', 'the', 'recent', 'earthquakes', 'that', 'occured', 'this', 'year', '7-sep-18', ',', '6-september-18', ',', 'september', '05,2018', ',', '29-08-18', ',', '25/aug/18', 'and', 'many', 'more', '.']\n"
     ]
    }
   ],
   "source": [
    "tokenized_list = word_tokenize(converted_text)\n",
    "print(tokenized_list)"
   ]
  },
  {
   "cell_type": "code",
   "execution_count": null,
   "id": "9ab95eda",
   "metadata": {},
   "outputs": [],
   "source": []
  }
 ],
 "metadata": {
  "kernelspec": {
   "display_name": "Python 3",
   "language": "python",
   "name": "python3"
  },
  "language_info": {
   "codemirror_mode": {
    "name": "ipython",
    "version": 3
   },
   "file_extension": ".py",
   "mimetype": "text/x-python",
   "name": "python",
   "nbconvert_exporter": "python",
   "pygments_lexer": "ipython3",
   "version": "3.8.8"
  }
 },
 "nbformat": 4,
 "nbformat_minor": 5
}
