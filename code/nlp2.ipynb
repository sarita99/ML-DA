{
 "cells": [
  {
   "cell_type": "code",
   "execution_count": 1,
   "id": "73f4f99d",
   "metadata": {},
   "outputs": [
    {
     "name": "stdout",
     "output_type": "stream",
     "text": [
      "Wikipedia is a multilingual, web-based, free encyclopedia based on a model of openly editable content. It is the largest and most popular general reference work on the Internet, and is one of the most popular websites by Alexa rank. It is owned and supported by the Wikimedia Foundation, a non-profit organization which operates on money it receives from donors.\n",
      "Wikipedia was launched on January 15, 2001, by Jimmy Wales and Larry Sanger. Sanger coined its name, as a portmanteau of wiki and \"encyclopedia\". Initially an English-language encyclopedia, versions in other languages were quickly developed. With 5,721,582 articles, the English Wikipedia is the largest of the more than 290 Wikipedia encyclopedias. Overall, Wikipedia comprises more than 40 million articles in 301 different languages and had 18 billion page views and nearly 500 million unique visitors each month as of February 2014.\n",
      "In 2005, Nature published a peer review comparing 42 science articles from Encyclopædia Britannica and Wikipedia and found that Wikipedia's level of accuracy approached that of Encyclopædia Britannica. Time magazine stated that the open-door policy of allowing anyone to edit had made Wikipedia the biggest and possibly the best encyclopedia in the world and it was testament to the vision of Jimmy Wales.\n",
      "Wikipedia has been criticized for exhibiting systemic bias, for presenting a mixture of \"truths, half truths, and some falsehoods\", and for being subject to manipulation and spin in controversial topics. In 2017, Facebook announced that it would help readers detect fake news by suitable links to Wikipedia articles. YouTube announced a similar plan in 2018. In response, The Washington Post headlined, \"Wikipedia, the ‘good cop’ of the Internet\".\n"
     ]
    }
   ],
   "source": [
    "import nltk\n",
    "import string\n",
    "from nltk import word_tokenize\n",
    "from nltk import wordpunct_tokenize\n",
    "from nltk.corpus import stopwords\n",
    "from string import punctuation\n",
    "from nltk.stem.snowball import SnowballStemmer\n",
    "from nltk.stem.wordnet import WordNetLemmatizer\n",
    "from nltk import pos_tag\n",
    "#read the file \n",
    "#Note: use the correct path of the file depending on your environment\n",
    "file = open(\"data/sample1.txt\",'r') \n",
    "text = ''\n",
    "for i in file.readlines():\n",
    "    text+=i\n",
    "print(text)"
   ]
  },
  {
   "cell_type": "code",
   "execution_count": 2,
   "id": "4451b80f",
   "metadata": {},
   "outputs": [
    {
     "name": "stdout",
     "output_type": "stream",
     "text": [
      "Wikipedia is a multilingual, web-based, free encyclopedia based on a model of openly editable content. It is the largest and most popular general reference work on the Internet, and is one of the most popular websites by Alexa rank. It is owned and supported by the Wikimedia Foundation, a non-profit organization which operates on money it receives from donors.\n",
      "Wikipedia was launched on January 15, 2001, by Jimmy Wales and Larry Sanger. Sanger coined its name, as a portmanteau of wiki and \"encyclopedia\". Initially an English-language encyclopedia, versions in other languages were quickly developed. With 5,721,582 articles, the English Wikipedia is the largest of the more than 290 Wikipedia encyclopedias. Overall, Wikipedia comprises more than 40 million articles in 301 different languages and had 18 billion page views and nearly 500 million unique visitors each month as of February 2014.\n",
      "In 2005, Nature published a peer review comparing 42 science articles from Encyclopædia Britannica and Wikipedia and found that Wikipedia's level of accuracy approached that of Encyclopædia Britannica. Time magazine stated that the open-door policy of allowing anyone to edit had made Wikipedia the biggest and possibly the best encyclopedia in the world and it was testament to the vision of Jimmy Wales.\n",
      "Wikipedia has been criticized for exhibiting systemic bias, for presenting a mixture of \"truths, half truths, and some falsehoods\", and for being subject to manipulation and spin in controversial topics. In 2017, Facebook announced that it would help readers detect fake news by suitable links to Wikipedia articles. YouTube announced a similar plan in 2018. In response, The Washington Post headlined, \"Wikipedia, the ‘good cop’ of the Internet\".\n"
     ]
    }
   ],
   "source": [
    "#remove trailing spaces\n",
    "trimmed_text = text.strip()\n",
    "print(trimmed_text)"
   ]
  },
  {
   "cell_type": "code",
   "execution_count": 3,
   "id": "86cc714d",
   "metadata": {},
   "outputs": [
    {
     "name": "stdout",
     "output_type": "stream",
     "text": [
      "wikipedia is a multilingual, web-based, free encyclopedia based on a model of openly editable content. it is the largest and most popular general reference work on the internet, and is one of the most popular websites by alexa rank. it is owned and supported by the wikimedia foundation, a non-profit organization which operates on money it receives from donors.\n",
      "wikipedia was launched on january 15, 2001, by jimmy wales and larry sanger. sanger coined its name, as a portmanteau of wiki and \"encyclopedia\". initially an english-language encyclopedia, versions in other languages were quickly developed. with 5,721,582 articles, the english wikipedia is the largest of the more than 290 wikipedia encyclopedias. overall, wikipedia comprises more than 40 million articles in 301 different languages and had 18 billion page views and nearly 500 million unique visitors each month as of february 2014.\n",
      "in 2005, nature published a peer review comparing 42 science articles from encyclopædia britannica and wikipedia and found that wikipedia's level of accuracy approached that of encyclopædia britannica. time magazine stated that the open-door policy of allowing anyone to edit had made wikipedia the biggest and possibly the best encyclopedia in the world and it was testament to the vision of jimmy wales.\n",
      "wikipedia has been criticized for exhibiting systemic bias, for presenting a mixture of \"truths, half truths, and some falsehoods\", and for being subject to manipulation and spin in controversial topics. in 2017, facebook announced that it would help readers detect fake news by suitable links to wikipedia articles. youtube announced a similar plan in 2018. in response, the washington post headlined, \"wikipedia, the ‘good cop’ of the internet\".\n"
     ]
    }
   ],
   "source": [
    "converted_text = trimmed_text.lower()\n",
    "print(converted_text)"
   ]
  },
  {
   "cell_type": "code",
   "execution_count": 4,
   "id": "d56f73d9",
   "metadata": {},
   "outputs": [
    {
     "name": "stdout",
     "output_type": "stream",
     "text": [
      "['wikipedia', 'is', 'a', 'multilingual', ',', 'web-based', ',', 'free', 'encyclopedia', 'based', 'on', 'a', 'model', 'of', 'openly', 'editable', 'content', '.', 'it', 'is', 'the', 'largest', 'and', 'most', 'popular', 'general', 'reference', 'work', 'on', 'the', 'internet', ',', 'and', 'is', 'one', 'of', 'the', 'most', 'popular', 'websites', 'by', 'alexa', 'rank', '.', 'it', 'is', 'owned', 'and', 'supported', 'by', 'the', 'wikimedia', 'foundation', ',', 'a', 'non-profit', 'organization', 'which', 'operates', 'on', 'money', 'it', 'receives', 'from', 'donors', '.', 'wikipedia', 'was', 'launched', 'on', 'january', '15', ',', '2001', ',', 'by', 'jimmy', 'wales', 'and', 'larry', 'sanger', '.', 'sanger', 'coined', 'its', 'name', ',', 'as', 'a', 'portmanteau', 'of', 'wiki', 'and', '``', 'encyclopedia', \"''\", '.', 'initially', 'an', 'english-language', 'encyclopedia', ',', 'versions', 'in', 'other', 'languages', 'were', 'quickly', 'developed', '.', 'with', '5,721,582', 'articles', ',', 'the', 'english', 'wikipedia', 'is', 'the', 'largest', 'of', 'the', 'more', 'than', '290', 'wikipedia', 'encyclopedias', '.', 'overall', ',', 'wikipedia', 'comprises', 'more', 'than', '40', 'million', 'articles', 'in', '301', 'different', 'languages', 'and', 'had', '18', 'billion', 'page', 'views', 'and', 'nearly', '500', 'million', 'unique', 'visitors', 'each', 'month', 'as', 'of', 'february', '2014.', 'in', '2005', ',', 'nature', 'published', 'a', 'peer', 'review', 'comparing', '42', 'science', 'articles', 'from', 'encyclopædia', 'britannica', 'and', 'wikipedia', 'and', 'found', 'that', 'wikipedia', \"'s\", 'level', 'of', 'accuracy', 'approached', 'that', 'of', 'encyclopædia', 'britannica', '.', 'time', 'magazine', 'stated', 'that', 'the', 'open-door', 'policy', 'of', 'allowing', 'anyone', 'to', 'edit', 'had', 'made', 'wikipedia', 'the', 'biggest', 'and', 'possibly', 'the', 'best', 'encyclopedia', 'in', 'the', 'world', 'and', 'it', 'was', 'testament', 'to', 'the', 'vision', 'of', 'jimmy', 'wales', '.', 'wikipedia', 'has', 'been', 'criticized', 'for', 'exhibiting', 'systemic', 'bias', ',', 'for', 'presenting', 'a', 'mixture', 'of', '``', 'truths', ',', 'half', 'truths', ',', 'and', 'some', 'falsehoods', \"''\", ',', 'and', 'for', 'being', 'subject', 'to', 'manipulation', 'and', 'spin', 'in', 'controversial', 'topics', '.', 'in', '2017', ',', 'facebook', 'announced', 'that', 'it', 'would', 'help', 'readers', 'detect', 'fake', 'news', 'by', 'suitable', 'links', 'to', 'wikipedia', 'articles', '.', 'youtube', 'announced', 'a', 'similar', 'plan', 'in', '2018.', 'in', 'response', ',', 'the', 'washington', 'post', 'headlined', ',', '``', 'wikipedia', ',', 'the', '‘', 'good', 'cop', '’', 'of', 'the', 'internet', \"''\", '.']\n"
     ]
    }
   ],
   "source": [
    "tokenized_list = word_tokenize(converted_text)\n",
    "print(tokenized_list)"
   ]
  },
  {
   "cell_type": "code",
   "execution_count": 5,
   "id": "c00dd95d",
   "metadata": {},
   "outputs": [
    {
     "name": "stdout",
     "output_type": "stream",
     "text": [
      "311\n",
      "171\n"
     ]
    }
   ],
   "source": [
    "print(len(tokenized_list))\n",
    "print(len(set(tokenized_list))) #1"
   ]
  },
  {
   "cell_type": "code",
   "execution_count": 6,
   "id": "112716ec",
   "metadata": {},
   "outputs": [
    {
     "name": "stdout",
     "output_type": "stream",
     "text": [
      "['wikipedia', 'is', 'a', 'multilingual', ',', 'web', '-', 'based', ',', 'free', 'encyclopedia', 'based', 'on', 'a', 'model', 'of', 'openly', 'editable', 'content', '.', 'it', 'is', 'the', 'largest', 'and', 'most', 'popular', 'general', 'reference', 'work', 'on', 'the', 'internet', ',', 'and', 'is', 'one', 'of', 'the', 'most', 'popular', 'websites', 'by', 'alexa', 'rank', '.', 'it', 'is', 'owned', 'and', 'supported', 'by', 'the', 'wikimedia', 'foundation', ',', 'a', 'non', '-', 'profit', 'organization', 'which', 'operates', 'on', 'money', 'it', 'receives', 'from', 'donors', '.', 'wikipedia', 'was', 'launched', 'on', 'january', '15', ',', '2001', ',', 'by', 'jimmy', 'wales', 'and', 'larry', 'sanger', '.', 'sanger', 'coined', 'its', 'name', ',', 'as', 'a', 'portmanteau', 'of', 'wiki', 'and', '\"', 'encyclopedia', '\".', 'initially', 'an', 'english', '-', 'language', 'encyclopedia', ',', 'versions', 'in', 'other', 'languages', 'were', 'quickly', 'developed', '.', 'with', '5', ',', '721', ',', '582', 'articles', ',', 'the', 'english', 'wikipedia', 'is', 'the', 'largest', 'of', 'the', 'more', 'than', '290', 'wikipedia', 'encyclopedias', '.', 'overall', ',', 'wikipedia', 'comprises', 'more', 'than', '40', 'million', 'articles', 'in', '301', 'different', 'languages', 'and', 'had', '18', 'billion', 'page', 'views', 'and', 'nearly', '500', 'million', 'unique', 'visitors', 'each', 'month', 'as', 'of', 'february', '2014', '.', 'in', '2005', ',', 'nature', 'published', 'a', 'peer', 'review', 'comparing', '42', 'science', 'articles', 'from', 'encyclopædia', 'britannica', 'and', 'wikipedia', 'and', 'found', 'that', 'wikipedia', \"'\", 's', 'level', 'of', 'accuracy', 'approached', 'that', 'of', 'encyclopædia', 'britannica', '.', 'time', 'magazine', 'stated', 'that', 'the', 'open', '-', 'door', 'policy', 'of', 'allowing', 'anyone', 'to', 'edit', 'had', 'made', 'wikipedia', 'the', 'biggest', 'and', 'possibly', 'the', 'best', 'encyclopedia', 'in', 'the', 'world', 'and', 'it', 'was', 'testament', 'to', 'the', 'vision', 'of', 'jimmy', 'wales', '.', 'wikipedia', 'has', 'been', 'criticized', 'for', 'exhibiting', 'systemic', 'bias', ',', 'for', 'presenting', 'a', 'mixture', 'of', '\"', 'truths', ',', 'half', 'truths', ',', 'and', 'some', 'falsehoods', '\",', 'and', 'for', 'being', 'subject', 'to', 'manipulation', 'and', 'spin', 'in', 'controversial', 'topics', '.', 'in', '2017', ',', 'facebook', 'announced', 'that', 'it', 'would', 'help', 'readers', 'detect', 'fake', 'news', 'by', 'suitable', 'links', 'to', 'wikipedia', 'articles', '.', 'youtube', 'announced', 'a', 'similar', 'plan', 'in', '2018', '.', 'in', 'response', ',', 'the', 'washington', 'post', 'headlined', ',', '\"', 'wikipedia', ',', 'the', '‘', 'good', 'cop', '’', 'of', 'the', 'internet', '\".']\n"
     ]
    }
   ],
   "source": [
    "punct_tokenized_list = wordpunct_tokenize(converted_text)\n",
    "print(punct_tokenized_list)"
   ]
  },
  {
   "cell_type": "code",
   "execution_count": 7,
   "id": "0da14541",
   "metadata": {},
   "outputs": [
    {
     "data": {
      "text/plain": [
       "'!\"#$%&\\'()*+,-./:;<=>?@[\\\\]^_`{|}~'"
      ]
     },
     "execution_count": 7,
     "metadata": {},
     "output_type": "execute_result"
    }
   ],
   "source": [
    "punctuation"
   ]
  },
  {
   "cell_type": "code",
   "execution_count": 8,
   "id": "beed0c44",
   "metadata": {},
   "outputs": [
    {
     "name": "stdout",
     "output_type": "stream",
     "text": [
      "40\n"
     ]
    }
   ],
   "source": [
    "punct_count = 0\n",
    "for i in punct_tokenized_list:\n",
    "    if i in punctuation:\n",
    "        punct_count+=1\n",
    "print(punct_count)     #2   "
   ]
  },
  {
   "cell_type": "code",
   "execution_count": 9,
   "id": "e162398f",
   "metadata": {},
   "outputs": [
    {
     "name": "stdout",
     "output_type": "stream",
     "text": [
      "[('wikipedia', 'NN'), ('is', 'VBZ'), ('a', 'DT'), ('multilingual', 'JJ'), (',', ','), ('web', 'SYM'), ('-', ':'), ('based', 'VBN'), (',', ','), ('free', 'JJ'), ('encyclopedia', 'NN'), ('based', 'VBN'), ('on', 'IN'), ('a', 'DT'), ('model', 'NN'), ('of', 'IN'), ('openly', 'RB'), ('editable', 'JJ'), ('content', 'NN'), ('.', '.'), ('it', 'PRP'), ('is', 'VBZ'), ('the', 'DT'), ('largest', 'JJS'), ('and', 'CC'), ('most', 'RBS'), ('popular', 'JJ'), ('general', 'JJ'), ('reference', 'NN'), ('work', 'NN'), ('on', 'IN'), ('the', 'DT'), ('internet', 'NN'), (',', ','), ('and', 'CC'), ('is', 'VBZ'), ('one', 'CD'), ('of', 'IN'), ('the', 'DT'), ('most', 'RBS'), ('popular', 'JJ'), ('websites', 'NNS'), ('by', 'IN'), ('alexa', 'JJ'), ('rank', 'NN'), ('.', '.'), ('it', 'PRP'), ('is', 'VBZ'), ('owned', 'VBN'), ('and', 'CC'), ('supported', 'VBN'), ('by', 'IN'), ('the', 'DT'), ('wikimedia', 'NN'), ('foundation', 'NN'), (',', ','), ('a', 'DT'), ('non', 'JJ'), ('-', ':'), ('profit', 'NN'), ('organization', 'NN'), ('which', 'WDT'), ('operates', 'VBZ'), ('on', 'IN'), ('money', 'NN'), ('it', 'PRP'), ('receives', 'VBZ'), ('from', 'IN'), ('donors', 'NNS'), ('.', '.'), ('wikipedia', 'NN'), ('was', 'VBD'), ('launched', 'VBN'), ('on', 'IN'), ('january', 'JJ'), ('15', 'CD'), (',', ','), ('2001', 'CD'), (',', ','), ('by', 'IN'), ('jimmy', 'NN'), ('wales', 'NNS'), ('and', 'CC'), ('larry', 'JJ'), ('sanger', 'NN'), ('.', '.'), ('sanger', 'NN'), ('coined', 'VBD'), ('its', 'PRP$'), ('name', 'NN'), (',', ','), ('as', 'IN'), ('a', 'DT'), ('portmanteau', 'NN'), ('of', 'IN'), ('wiki', 'NN'), ('and', 'CC'), ('\"', 'JJ'), ('encyclopedia', 'NN'), ('\".', 'NNP'), ('initially', 'RB'), ('an', 'DT'), ('english', 'JJ'), ('-', ':'), ('language', 'NN'), ('encyclopedia', 'NN'), (',', ','), ('versions', 'NNS'), ('in', 'IN'), ('other', 'JJ'), ('languages', 'NNS'), ('were', 'VBD'), ('quickly', 'RB'), ('developed', 'VBN'), ('.', '.'), ('with', 'IN'), ('5', 'CD'), (',', ','), ('721', 'CD'), (',', ','), ('582', 'CD'), ('articles', 'NNS'), (',', ','), ('the', 'DT'), ('english', 'JJ'), ('wikipedia', 'NN'), ('is', 'VBZ'), ('the', 'DT'), ('largest', 'JJS'), ('of', 'IN'), ('the', 'DT'), ('more', 'JJR'), ('than', 'IN'), ('290', 'CD'), ('wikipedia', 'JJ'), ('encyclopedias', 'NN'), ('.', '.'), ('overall', 'JJ'), (',', ','), ('wikipedia', 'JJ'), ('comprises', 'VBZ'), ('more', 'JJR'), ('than', 'IN'), ('40', 'CD'), ('million', 'CD'), ('articles', 'NNS'), ('in', 'IN'), ('301', 'CD'), ('different', 'JJ'), ('languages', 'NNS'), ('and', 'CC'), ('had', 'VBD'), ('18', 'CD'), ('billion', 'CD'), ('page', 'NN'), ('views', 'NNS'), ('and', 'CC'), ('nearly', 'RB'), ('500', 'CD'), ('million', 'CD'), ('unique', 'JJ'), ('visitors', 'NNS'), ('each', 'DT'), ('month', 'NN'), ('as', 'IN'), ('of', 'IN'), ('february', 'JJ'), ('2014', 'CD'), ('.', '.'), ('in', 'IN'), ('2005', 'CD'), (',', ','), ('nature', 'NN'), ('published', 'VBD'), ('a', 'DT'), ('peer', 'NN'), ('review', 'NN'), ('comparing', 'VBG'), ('42', 'CD'), ('science', 'NN'), ('articles', 'NNS'), ('from', 'IN'), ('encyclopædia', 'NN'), ('britannica', 'NN'), ('and', 'CC'), ('wikipedia', 'NN'), ('and', 'CC'), ('found', 'VBD'), ('that', 'IN'), ('wikipedia', 'NN'), (\"'\", \"''\"), ('s', 'JJ'), ('level', 'NN'), ('of', 'IN'), ('accuracy', 'NN'), ('approached', 'VBD'), ('that', 'IN'), ('of', 'IN'), ('encyclopædia', 'NN'), ('britannica', 'NN'), ('.', '.'), ('time', 'NN'), ('magazine', 'NN'), ('stated', 'VBN'), ('that', 'IN'), ('the', 'DT'), ('open', 'JJ'), ('-', ':'), ('door', 'NN'), ('policy', 'NN'), ('of', 'IN'), ('allowing', 'VBG'), ('anyone', 'NN'), ('to', 'TO'), ('edit', 'VB'), ('had', 'NNS'), ('made', 'VBN'), ('wikipedia', 'IN'), ('the', 'DT'), ('biggest', 'JJS'), ('and', 'CC'), ('possibly', 'RB'), ('the', 'DT'), ('best', 'JJS'), ('encyclopedia', 'NN'), ('in', 'IN'), ('the', 'DT'), ('world', 'NN'), ('and', 'CC'), ('it', 'PRP'), ('was', 'VBD'), ('testament', 'JJ'), ('to', 'TO'), ('the', 'DT'), ('vision', 'NN'), ('of', 'IN'), ('jimmy', 'NN'), ('wales', 'NNS'), ('.', '.'), ('wikipedia', 'NN'), ('has', 'VBZ'), ('been', 'VBN'), ('criticized', 'VBN'), ('for', 'IN'), ('exhibiting', 'VBG'), ('systemic', 'JJ'), ('bias', 'NN'), (',', ','), ('for', 'IN'), ('presenting', 'VBG'), ('a', 'DT'), ('mixture', 'NN'), ('of', 'IN'), ('\"', 'NNP'), ('truths', 'NNS'), (',', ','), ('half', 'JJ'), ('truths', 'NNS'), (',', ','), ('and', 'CC'), ('some', 'DT'), ('falsehoods', 'NNS'), ('\",', 'VBP'), ('and', 'CC'), ('for', 'IN'), ('being', 'VBG'), ('subject', 'JJ'), ('to', 'TO'), ('manipulation', 'NN'), ('and', 'CC'), ('spin', 'NN'), ('in', 'IN'), ('controversial', 'JJ'), ('topics', 'NNS'), ('.', '.'), ('in', 'IN'), ('2017', 'CD'), (',', ','), ('facebook', 'NN'), ('announced', 'VBD'), ('that', 'IN'), ('it', 'PRP'), ('would', 'MD'), ('help', 'VB'), ('readers', 'NNS'), ('detect', 'VB'), ('fake', 'JJ'), ('news', 'NN'), ('by', 'IN'), ('suitable', 'JJ'), ('links', 'NNS'), ('to', 'TO'), ('wikipedia', 'VB'), ('articles', 'NNS'), ('.', '.'), ('youtube', 'NN'), ('announced', 'VBD'), ('a', 'DT'), ('similar', 'JJ'), ('plan', 'NN'), ('in', 'IN'), ('2018', 'CD'), ('.', '.'), ('in', 'IN'), ('response', 'NN'), (',', ','), ('the', 'DT'), ('washington', 'NN'), ('post', 'NN'), ('headlined', 'VBN'), (',', ','), ('\"', 'JJ'), ('wikipedia', 'NN'), (',', ','), ('the', 'DT'), ('‘', 'NNP'), ('good', 'JJ'), ('cop', 'NN'), ('’', 'NN'), ('of', 'IN'), ('the', 'DT'), ('internet', 'NN'), ('\".', 'NN')]\n"
     ]
    }
   ],
   "source": [
    "from nltk import pos_tag\n",
    "#parts of speech tagging\n",
    "pos_tag_list = pos_tag(punct_tokenized_list)\n",
    "print(pos_tag_list)"
   ]
  },
  {
   "cell_type": "code",
   "execution_count": 10,
   "id": "0cdb1702",
   "metadata": {},
   "outputs": [
    {
     "name": "stdout",
     "output_type": "stream",
     "text": [
      "Counter({'NN': 65, 'IN': 42, 'JJ': 32, 'DT': 25, ',': 20, 'NNS': 20, 'CD': 19, 'CC': 14, '.': 12, 'VBN': 11, 'VBD': 10, 'VBZ': 9, 'RB': 5, 'PRP': 5, 'VBG': 5, ':': 4, 'JJS': 4, 'TO': 4, 'VB': 4, 'NNP': 3, 'RBS': 2, 'JJR': 2, 'SYM': 1, 'WDT': 1, 'PRP$': 1, \"''\": 1, 'VBP': 1, 'MD': 1})\n"
     ]
    }
   ],
   "source": [
    "from collections import Counter\n",
    "counts = Counter( tag for word,  tag in pos_tag_list)\n",
    "print(counts)"
   ]
  },
  {
   "cell_type": "code",
   "execution_count": 11,
   "id": "1745d16e",
   "metadata": {},
   "outputs": [],
   "source": [
    "#type(counts)"
   ]
  },
  {
   "cell_type": "code",
   "execution_count": 12,
   "id": "cb503b7b",
   "metadata": {},
   "outputs": [
    {
     "data": {
      "text/plain": [
       "<BarContainer object of 28 artists>"
      ]
     },
     "execution_count": 12,
     "metadata": {},
     "output_type": "execute_result"
    },
    {
     "data": {
      "image/png": "[encoded data removed]",
      "text/plain": [
       "<Figure size 1440x360 with 1 Axes>"
      ]
     },
     "metadata": {
      "needs_background": "light"
     },
     "output_type": "display_data"
    }
   ],
   "source": [
    "import matplotlib.pyplot as plt\n",
    "plt.rcParams['figure.figsize']=(20,5)\n",
    "plt.bar(counts.keys(), counts.values()) #3"
   ]
  },
  {
   "cell_type": "code",
   "execution_count": 13,
   "id": "8e9037bc",
   "metadata": {},
   "outputs": [
    {
     "name": "stdout",
     "output_type": "stream",
     "text": [
      "{'money', 'policy', 'presenting', 'internet', 'february', 'one', 'wikipedia', 'bias', 'page', '2014.', 'britannica', 'wales', 'published', 'news', 'billion', 'open-door', '301', 'languages', '18', 'suitable', 'jimmy', 'operates', '15', 'unique', '2005', 'foundation', 'owned', 'january', 'nearly', 'websites', 'peer', 'readers', 'nature', 'quickly', 'largest', 'truths', '2018.', 'systemic', 'made', 'half', 'criticized', 'would', 'comparing', 'level', 'alexa', 'detect', 'response', 'english-language', 'exhibiting', 'headlined', 'allowing', 'possibly', 'similar', 'launched', 'sanger', 'versions', '40', '.', 'general', '42', 'editable', 'stated', 'falsehoods', 'overall', 'name', 'fake', 'edit', 'views', 'accuracy', 'comprises', 'vision', '‘', 'spin', 'encyclopedia', 'free', 'donors', 'english', '500', \"'s\", 'popular', 'organization', 'portmanteau', '’', '2001', 'different', 'supported', 'coined', 'announced', 'non-profit', 'encyclopædia', 'plan', '290', 'mixture', 'initially', 'anyone', 'rank', 'biggest', 'wiki', 'developed', 'million', 'based', 'approached', '5,721,582', 'openly', 'articles', 'time', 'manipulation', 'topics', 'model', '2017', 'subject', 'good', 'work', 'help', 'washington', 'review', 'reference', 'larry', 'post', 'wikimedia', 'receives', 'facebook', 'content', 'encyclopedias', 'magazine', 'world', 'youtube', 'found', 'controversial', '``', 'links', 'best', 'cop', 'multilingual', 'testament', 'web-based', ',', 'visitors', 'science', \"''\", 'month'}\n",
      "141\n"
     ]
    }
   ],
   "source": [
    "#cleaning and then redoing the above steps\n",
    "vocab_set = set(tokenized_list)\n",
    "#remove stop words\n",
    "set_wo_stopwords = vocab_set - set(stopwords.words(\"english\"))\n",
    "print(set_wo_stopwords)\n",
    "print(len(set_wo_stopwords))"
   ]
  },
  {
   "cell_type": "code",
   "execution_count": 14,
   "id": "787b70e9",
   "metadata": {},
   "outputs": [
    {
     "name": "stdout",
     "output_type": "stream",
     "text": [
      "{'money', 'policy', 'presenting', 'internet', 'february', 'one', 'wikipedia', 'bias', 'page', '2014.', 'britannica', 'wales', 'published', 'news', 'billion', 'open-door', '301', 'languages', '18', 'suitable', 'jimmy', 'operates', '15', 'unique', '2005', 'foundation', 'owned', 'january', 'nearly', 'websites', 'peer', 'readers', 'nature', 'quickly', 'largest', 'truths', '2018.', 'systemic', 'made', 'half', 'criticized', 'would', 'comparing', 'level', 'alexa', 'detect', 'response', 'english-language', 'exhibiting', 'headlined', 'allowing', 'possibly', 'similar', 'launched', 'sanger', 'versions', '40', 'general', '42', 'editable', 'stated', 'falsehoods', 'overall', 'name', 'fake', 'edit', 'views', 'accuracy', 'comprises', 'vision', '‘', 'spin', 'encyclopedia', 'free', 'donors', 'english', '500', \"'s\", 'popular', 'organization', 'portmanteau', '’', '2001', 'different', 'supported', 'coined', 'announced', 'non-profit', 'encyclopædia', 'plan', '290', 'mixture', 'initially', 'anyone', 'rank', 'biggest', 'wiki', 'developed', 'million', 'based', 'approached', '5,721,582', 'openly', 'articles', 'time', 'manipulation', 'topics', 'model', '2017', 'subject', 'good', 'work', 'help', 'washington', 'review', 'reference', 'larry', 'post', 'wikimedia', 'receives', 'facebook', 'content', 'encyclopedias', 'magazine', 'world', 'youtube', 'found', 'controversial', '``', 'links', 'best', 'cop', 'multilingual', 'testament', 'web-based', 'visitors', 'science', \"''\", 'month'}\n",
      "139\n"
     ]
    }
   ],
   "source": [
    "#remove punctuation\n",
    "set_wo_punctuation = set_wo_stopwords - set(punctuation)\n",
    "print(set_wo_punctuation)\n",
    "print(len(set_wo_punctuation))"
   ]
  },
  {
   "cell_type": "code",
   "execution_count": 15,
   "id": "ef21dce7",
   "metadata": {},
   "outputs": [
    {
     "name": "stdout",
     "output_type": "stream",
     "text": [
      "['money', 'polici', 'present', 'internet', 'februari', 'one', 'wikipedia', 'bias', 'page', '2014.', 'britannica', 'wale', 'publish', 'news', 'billion', 'open-door', '301', 'languag', '18', 'suitabl', 'jimmi', 'oper', '15', 'uniqu', '2005', 'foundat', 'own', 'januari', 'near', 'websit', 'peer', 'reader', 'natur', 'quick', 'largest', 'truth', '2018.', 'system', 'made', 'half', 'critic', 'would', 'compar', 'level', 'alexa', 'detect', 'respons', 'english-languag', 'exhibit', 'headlin', 'allow', 'possibl', 'similar', 'launch', 'sanger', 'version', '40', 'general', '42', 'edit', 'state', 'falsehood', 'overal', 'name', 'fake', 'edit', 'view', 'accuraci', 'compris', 'vision', '‘', 'spin', 'encyclopedia', 'free', 'donor', 'english', '500', \"'s\", 'popular', 'organ', 'portmanteau', '’', '2001', 'differ', 'support', 'coin', 'announc', 'non-profit', 'encyclopædia', 'plan', '290', 'mixtur', 'initi', 'anyon', 'rank', 'biggest', 'wiki', 'develop', 'million', 'base', 'approach', '5,721,582', 'open', 'articl', 'time', 'manipul', 'topic', 'model', '2017', 'subject', 'good', 'work', 'help', 'washington', 'review', 'refer', 'larri', 'post', 'wikimedia', 'receiv', 'facebook', 'content', 'encyclopedia', 'magazin', 'world', 'youtub', 'found', 'controversi', '``', 'link', 'best', 'cop', 'multilingu', 'testament', 'web-bas', 'visitor', 'scienc', \"''\", 'month']\n"
     ]
    }
   ],
   "source": [
    "#stemming\n",
    "stemmed_list= []\n",
    "stemObj = SnowballStemmer(\"english\")\n",
    "for i in set_wo_punctuation:\n",
    "    stemmed_list.append(stemObj.stem(i))\n",
    "print(stemmed_list)"
   ]
  },
  {
   "cell_type": "code",
   "execution_count": 16,
   "id": "a51cd206",
   "metadata": {},
   "outputs": [
    {
     "name": "stdout",
     "output_type": "stream",
     "text": [
      "[('money', 'NN'), ('policy', 'NN'), ('presenting', 'VBG'), ('internet', 'JJ'), ('february', 'JJ'), ('one', 'CD'), ('wikipedia', 'NN'), ('bias', 'NN'), ('page', 'NN'), ('2014.', 'CD'), ('britannica', 'NN'), ('wales', 'NNS'), ('published', 'VBN'), ('news', 'NN'), ('billion', 'CD'), ('open-door', 'JJ'), ('301', 'CD'), ('languages', 'NNS'), ('18', 'CD'), ('suitable', 'JJ'), ('jimmy', 'NN'), ('operates', 'VBZ'), ('15', 'CD'), ('unique', 'JJ'), ('2005', 'CD'), ('foundation', 'NN'), ('owned', 'VBD'), ('january', 'JJ'), ('nearly', 'RB'), ('websites', 'VBZ'), ('peer', 'JJ'), ('readers', 'NNS'), ('nature', 'VBP'), ('quickly', 'RB'), ('largest', 'JJS'), ('truths', 'NNS'), ('2018.', 'CD'), ('systemic', 'JJ'), ('made', 'VBN'), ('half', 'NN'), ('criticized', 'VBN'), ('would', 'MD'), ('comparing', 'VBG'), ('level', 'NN'), ('alexa', 'NNS'), ('detect', 'VBP'), ('response', 'NN'), ('english-language', 'NN'), ('exhibiting', 'NN'), ('headlined', 'VBD'), ('allowing', 'VBG'), ('possibly', 'RB'), ('similar', 'JJ'), ('launched', 'VBN'), ('sanger', 'NN'), ('versions', 'NNS'), ('40', 'CD'), ('general', 'JJ'), ('42', 'CD'), ('editable', 'JJ'), ('stated', 'VBN'), ('falsehoods', 'NNS'), ('overall', 'JJ'), ('name', 'NN'), ('fake', 'VB'), ('edit', 'JJ'), ('views', 'NNS'), ('accuracy', 'NN'), ('comprises', 'VBZ'), ('vision', 'NN'), ('‘', 'NNP'), ('spin', 'NN'), ('encyclopedia', 'RB'), ('free', 'JJ'), ('donors', 'NNS'), ('english', 'VBP'), ('500', 'CD'), (\"'s\", 'POS'), ('popular', 'JJ'), ('organization', 'NN'), ('portmanteau', 'NN'), ('’', 'JJ'), ('2001', 'CD'), ('different', 'JJ'), ('supported', 'VBD'), ('coined', 'JJ'), ('announced', 'VBD'), ('non-profit', 'JJ'), ('encyclopædia', 'NN'), ('plan', 'NN'), ('290', 'CD'), ('mixture', 'NN'), ('initially', 'RB'), ('anyone', 'NN'), ('rank', 'NN'), ('biggest', 'JJS'), ('wiki', 'NN'), ('developed', 'VBD'), ('million', 'CD'), ('based', 'VBN'), ('approached', 'VBD'), ('5,721,582', 'CD'), ('openly', 'RB'), ('articles', 'NNS'), ('time', 'NN'), ('manipulation', 'NN'), ('topics', 'NNS'), ('model', 'NN'), ('2017', 'CD'), ('subject', 'JJ'), ('good', 'JJ'), ('work', 'NN'), ('help', 'VBP'), ('washington', 'VB'), ('review', 'NN'), ('reference', 'NN'), ('larry', 'NN'), ('post', 'NN'), ('wikimedia', 'NN'), ('receives', 'VBZ'), ('facebook', 'VBP'), ('content', 'JJ'), ('encyclopedias', 'FW'), ('magazine', 'NN'), ('world', 'NN'), ('youtube', 'NN'), ('found', 'VBD'), ('controversial', 'JJ'), ('``', '``'), ('links', 'NNS'), ('best', 'JJS'), ('cop', 'NN'), ('multilingual', 'JJ'), ('testament', 'NN'), ('web-based', 'JJ'), ('visitors', 'NNS'), ('science', 'NN'), (\"''\", \"''\"), ('month', 'NN')]\n",
      "['money', 'policy', 'present', 'internet', 'february', 'one', 'wikipedia', 'bias', 'page', '2014.', 'britannica', 'wale', 'publish', 'news', 'billion', 'open-door', '301', 'language', '18', 'suitable', 'jimmy', 'operate', '15', 'unique', '2005', 'foundation', 'own', 'january', 'nearly', 'websites', 'peer', 'reader', 'nature', 'quickly', 'large', 'truth', '2018.', 'systemic', 'make', 'half', 'criticize', 'would', 'compare', 'level', 'alexa', 'detect', 'response', 'english-language', 'exhibiting', 'headline', 'allow', 'possibly', 'similar', 'launch', 'sanger', 'version', '40', 'general', '42', 'editable', 'state', 'falsehood', 'overall', 'name', 'fake', 'edit', 'view', 'accuracy', 'comprise', 'vision', '‘', 'spin', 'encyclopedia', 'free', 'donor', 'english', '500', \"'s\", 'popular', 'organization', 'portmanteau', '’', '2001', 'different', 'support', 'coined', 'announce', 'non-profit', 'encyclopædia', 'plan', '290', 'mixture', 'initially', 'anyone', 'rank', 'big', 'wiki', 'develop', 'million', 'base', 'approach', '5,721,582', 'openly', 'article', 'time', 'manipulation', 'topic', 'model', '2017', 'subject', 'good', 'work', 'help', 'washington', 'review', 'reference', 'larry', 'post', 'wikimedia', 'receive', 'facebook', 'content', 'encyclopedias', 'magazine', 'world', 'youtube', 'find', 'controversial', '``', 'link', 'best', 'cop', 'multilingual', 'testament', 'web-based', 'visitor', 'science', \"''\", 'month']\n"
     ]
    }
   ],
   "source": [
    "from nltk.corpus import wordnet\n",
    "from nltk import pos_tag\n",
    "#parts of speech tagging\n",
    "pos_tag_list = pos_tag(set_wo_punctuation)\n",
    "print(pos_tag_list)\n",
    "#for getting parts of speech\n",
    "def parts_of_speech(pos):\n",
    "    if pos.startswith(\"N\"):\n",
    "        return wordnet.NOUN\n",
    "    elif pos.startswith(\"J\"):\n",
    "        return wordnet.ADJ\n",
    "    elif pos.startswith(\"V\"):\n",
    "        return wordnet.VERB\n",
    "    elif pos.startswith(\"R\"):\n",
    "        return wordnet.ADV\n",
    "    elif pos.startswith(\"S\"):\n",
    "        return wordnet.ADJ_SAT\n",
    "    else:\n",
    "        return ''\n",
    "#lemmatization\n",
    "lemma_list = []\n",
    "lemmaObj = WordNetLemmatizer()\n",
    "for word,pos in pos_tag_list:\n",
    "    get_pos = parts_of_speech(pos)\n",
    "    if get_pos != '':\n",
    "        lemma_list.append(lemmaObj.lemmatize(word, pos = get_pos))\n",
    "    else:\n",
    "        lemma_list.append(word)\n",
    "print(lemma_list)"
   ]
  },
  {
   "cell_type": "code",
   "execution_count": 17,
   "id": "25f9b223",
   "metadata": {},
   "outputs": [
    {
     "name": "stdout",
     "output_type": "stream",
     "text": [
      "Counter({'NN': 43, 'JJ': 25, 'CD': 16, 'NNS': 13, 'VBD': 7, 'VBN': 6, 'RB': 6, 'VBP': 5, 'VBZ': 4, 'VBG': 3, 'JJS': 3, 'VB': 2, 'MD': 1, 'NNP': 1, 'POS': 1, 'FW': 1, '``': 1, \"''\": 1})\n"
     ]
    }
   ],
   "source": [
    "counts2 = Counter( tag for word,  tag in pos_tag_list)\n",
    "print(counts2)"
   ]
  },
  {
   "cell_type": "code",
   "execution_count": 18,
   "id": "6b2ec14b",
   "metadata": {
    "scrolled": true
   },
   "outputs": [
    {
     "data": {
      "text/plain": [
       "<BarContainer object of 18 artists>"
      ]
     },
     "execution_count": 18,
     "metadata": {},
     "output_type": "execute_result"
    },
    {
     "data": {
      "image/png": "[encoded data removed]",
      "text/plain": [
       "<Figure size 1440x360 with 1 Axes>"
      ]
     },
     "metadata": {
      "needs_background": "light"
     },
     "output_type": "display_data"
    }
   ],
   "source": [
    "#plt.rcParams['figure.figsize']=(20,5)\n",
    "plt.bar(counts2.keys(), counts2.values()) #3"
   ]
  },
  {
   "cell_type": "code",
   "execution_count": 19,
   "id": "f3f69d16",
   "metadata": {},
   "outputs": [
    {
     "name": "stdout",
     "output_type": "stream",
     "text": [
      "139\n"
     ]
    }
   ],
   "source": [
    "print(len(set(lemma_list))) #4"
   ]
  },
  {
   "cell_type": "code",
   "execution_count": 20,
   "id": "1680b80f",
   "metadata": {},
   "outputs": [
    {
     "name": "stdout",
     "output_type": "stream",
     "text": [
      "{'of', 'some', 'with', 'being', 'has', 'that', 'more', 'most', 'on', 'a', 'each', 'than', 'the', 'for', 'its', 'as', 'had', 'was', 'to', 'it', 'were', 'been', 'by', 'which', 'is', 'and', 'in', 'other', 'an', 'from'}\n"
     ]
    }
   ],
   "source": [
    "stopwords_set = vocab_set - set_wo_stopwords\n",
    "print(stopwords_set)"
   ]
  },
  {
   "cell_type": "code",
   "execution_count": 21,
   "id": "6b1119f0",
   "metadata": {},
   "outputs": [
    {
     "name": "stdout",
     "output_type": "stream",
     "text": [
      "[11, 1, 1, 1, 1, 4, 2, 2, 4, 7, 1, 2, 15, 3, 1, 2, 2, 2, 4, 5, 1, 1, 4, 1, 5, 14, 8, 1, 1, 2]\n"
     ]
    }
   ],
   "source": [
    "stopword_freq = []\n",
    "for i in stopwords_set:\n",
    "    stopword_freq.append(tokenized_list.count(i))\n",
    "print(stopword_freq)    #5 count of stopwords in text"
   ]
  },
  {
   "cell_type": "code",
   "execution_count": 22,
   "id": "f75fd5cd",
   "metadata": {},
   "outputs": [
    {
     "data": {
      "text/plain": [
       "<BarContainer object of 30 artists>"
      ]
     },
     "execution_count": 22,
     "metadata": {},
     "output_type": "execute_result"
    },
    {
     "data": {
      "image/png": "[encoded data removed]",
      "text/plain": [
       "<Figure size 1440x360 with 1 Axes>"
      ]
     },
     "metadata": {
      "needs_background": "light"
     },
     "output_type": "display_data"
    }
   ],
   "source": [
    "plt.bar(list(stopwords_set),stopword_freq)"
   ]
  },
  {
   "cell_type": "code",
   "execution_count": 35,
   "id": "4012a822",
   "metadata": {},
   "outputs": [
    {
     "name": "stdout",
     "output_type": "stream",
     "text": [
      "['the', 'and', 'wikipedia', 'of', 'in', 'a', 'is', 'it', 'encyclopedia', 'on', 'by']\n",
      "[15, 14, 11, 11, 8, 7, 5, 5, 4, 4, 4]\n"
     ]
    }
   ],
   "source": [
    "count1 = Counter(tokenized_list)\n",
    "#count1\n",
    "import operator\n",
    "#get frequency distribution into a list of tuples\n",
    "cd = sorted(count1.items(),key=operator.itemgetter(1),reverse=True)\n",
    "token = []\n",
    "freq = []\n",
    "ct = 0\n",
    "#get top 10 words\n",
    "for i in range(len(cd)):\n",
    "    if cd[i][0] not in punctuation and ct <=10:\n",
    "        token.append(cd[i][0])\n",
    "        freq.append(cd[i][1])\n",
    "        ct+=1\n",
    "print(token)\n",
    "print(freq)"
   ]
  },
  {
   "cell_type": "code",
   "execution_count": 36,
   "id": "29061436",
   "metadata": {},
   "outputs": [
    {
     "data": {
      "text/plain": [
       "<BarContainer object of 11 artists>"
      ]
     },
     "execution_count": 36,
     "metadata": {},
     "output_type": "execute_result"
    },
    {
     "data": {
      "image/png": "[encoded data removed]",
      "text/plain": [
       "<Figure size 1440x360 with 1 Axes>"
      ]
     },
     "metadata": {
      "needs_background": "light"
     },
     "output_type": "display_data"
    }
   ],
   "source": [
    "#plot the top 10 words freq\n",
    "plt.bar(token,freq)"
   ]
  },
  {
   "cell_type": "code",
   "execution_count": 39,
   "id": "e07f60d3",
   "metadata": {},
   "outputs": [
    {
     "name": "stdout",
     "output_type": "stream",
     "text": [
      "138\n",
      "137\n",
      "136\n"
     ]
    }
   ],
   "source": [
    "#get number of unique bigrams, trigrams and quadgrams\n",
    "from nltk.util import ngrams\n",
    "#bigrams\n",
    "bigrams = ngrams(set_wo_punctuation,2)\n",
    "#print(list(bigrams))\n",
    "print(len(set(list(bigrams))))\n",
    "trigrams = ngrams(set_wo_punctuation,3)\n",
    "print(len(set(list(trigrams))))\n",
    "quadgrams = ngrams(set_wo_punctuation,4)\n",
    "print(len(set(list(quadgrams))))"
   ]
  }
 ],
 "metadata": {
  "kernelspec": {
   "display_name": "Python 3",
   "language": "python",
   "name": "python3"
  },
  "language_info": {
   "codemirror_mode": {
    "name": "ipython",
    "version": 3
   },
   "file_extension": ".py",
   "mimetype": "text/x-python",
   "name": "python",
   "nbconvert_exporter": "python",
   "pygments_lexer": "ipython3",
   "version": "3.8.8"
  }
 },
 "nbformat": 4,
 "nbformat_minor": 5
}
